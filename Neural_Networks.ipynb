{
 "cells": [
  {
   "cell_type": "code",
   "execution_count": 1,
   "id": "ceddee35",
   "metadata": {},
   "outputs": [],
   "source": [
    "# Import dependencies\n",
    "import pandas as pd\n",
    "import matplotlib as plt\n",
    "from sklearn.datasets import make_blobs\n",
    "import sklearn as skl\n",
    "import tensorflow as tf"
   ]
  },
  {
   "cell_type": "code",
   "execution_count": 6,
   "id": "db969086",
   "metadata": {},
   "outputs": [
    {
     "data": {
      "text/plain": [
       "<AxesSubplot:xlabel='Feature 1', ylabel='Feature 2'>"
      ]
     },
     "execution_count": 6,
     "metadata": {},
     "output_type": "execute_result"
    },
    {
     "data": {
      "image/png": "[encoded data removed]",
      "text/plain": [
       "<Figure size 432x288 with 2 Axes>"
      ]
     },
     "metadata": {
      "needs_background": "light"
     },
     "output_type": "display_data"
    }
   ],
   "source": [
    "# Generate dummy dataset\n",
    "X, y = make_blobs(n_samples=1000, centers=2, n_features=2, random_state=78)\n",
    "\n",
    "# Creating a Dataframe with the dummy data\n",
    "df = pd.DataFrame(X, columns=[\"Feature 1\", \"Feature 2\"])\n",
    "df[\"Target\"] = y\n",
    "\n",
    "# Plotting the dummy data\n",
    "df.plot.scatter(x=\"Feature 1\", y=\"Feature 2\", c=\"Target\", colormap=\"winter\")"
   ]
  },
  {
   "cell_type": "code",
   "execution_count": 7,
   "id": "a4cf960c",
   "metadata": {},
   "outputs": [],
   "source": [
    "# Use sklearn to split dataset\n",
    "from sklearn.model_selection import train_test_split\n",
    "X_train, X_test, y_train, y_test = train_test_split(X, y, random_state=78)"
   ]
  },
  {
   "cell_type": "code",
   "execution_count": 8,
   "id": "2def42c5",
   "metadata": {},
   "outputs": [],
   "source": [
    "# Create scaler instance\n",
    "X_scaler = skl.preprocessing.StandardScaler()\n",
    "\n",
    "# Fit the scaler\n",
    "X_scaler.fit(X_train)\n",
    "\n",
    "# Scale the data\n",
    "X_train_scaled = X_scaler.transform(X_train)\n",
    "X_test_scaled = X_scaler.transform(X_test)"
   ]
  },
  {
   "cell_type": "code",
   "execution_count": 9,
   "id": "5a9a1f7b",
   "metadata": {},
   "outputs": [],
   "source": [
    "# Create the Keras Sequential model\n",
    "nn_model = tf.keras.models.Sequential()"
   ]
  },
  {
   "cell_type": "code",
   "execution_count": 10,
   "id": "665bd339",
   "metadata": {},
   "outputs": [],
   "source": [
    "# Add our first dense layer, including the input layer\n",
    "nn_model.add(tf.keras.layers.Dense(units=1, activation=\"relu\", input_dim=2))"
   ]
  },
  {
   "cell_type": "code",
   "execution_count": 11,
   "id": "07182e0a",
   "metadata": {},
   "outputs": [],
   "source": [
    "# Add the output layer that uses a probability activation function\n",
    "nn_model.add(tf.keras.layers.Dense(units=1, activation=\"sigmoid\"))"
   ]
  },
  {
   "cell_type": "code",
   "execution_count": 12,
   "id": "6292e1fb",
   "metadata": {},
   "outputs": [
    {
     "name": "stdout",
     "output_type": "stream",
     "text": [
      "Model: \"sequential\"\n",
      "_________________________________________________________________\n",
      " Layer (type)                Output Shape              Param #   \n",
      "=================================================================\n",
      " dense (Dense)               (None, 1)                 3         \n",
      "                                                                 \n",
      " dense_1 (Dense)             (None, 1)                 2         \n",
      "                                                                 \n",
      "=================================================================\n",
      "Total params: 5\n",
      "Trainable params: 5\n",
      "Non-trainable params: 0\n",
      "_________________________________________________________________\n"
     ]
    }
   ],
   "source": [
    "# Check the structure of the Sequential model\n",
    "nn_model.summary()"
   ]
  },
  {
   "cell_type": "code",
   "execution_count": 13,
   "id": "ec5bc34c",
   "metadata": {},
   "outputs": [],
   "source": [
    "# Compile the Sequential model together and customize metrics\n",
    "nn_model.compile(loss=\"binary_crossentropy\", optimizer=\"adam\", metrics=[\"accuracy\"])"
   ]
  },
  {
   "cell_type": "code",
   "execution_count": 14,
   "id": "510ad4ea",
   "metadata": {},
   "outputs": [
    {
     "name": "stdout",
     "output_type": "stream",
     "text": [
      "Epoch 1/100\n",
      "24/24 [==============================] - 0s 827us/step - loss: 0.9683 - accuracy: 0.2427\n",
      "Epoch 2/100\n",
      "24/24 [==============================] - 0s 739us/step - loss: 0.9310 - accuracy: 0.2547\n",
      "Epoch 3/100\n",
      "24/24 [==============================] - 0s 609us/step - loss: 0.8980 - accuracy: 0.2733\n",
      "Epoch 4/100\n",
      "24/24 [==============================] - 0s 696us/step - loss: 0.8681 - accuracy: 0.2907\n",
      "Epoch 5/100\n",
      "24/24 [==============================] - 0s 648us/step - loss: 0.8419 - accuracy: 0.3107\n",
      "Epoch 6/100\n",
      "24/24 [==============================] - 0s 652us/step - loss: 0.8187 - accuracy: 0.3293\n",
      "Epoch 7/100\n",
      "24/24 [==============================] - 0s 647us/step - loss: 0.7986 - accuracy: 0.3453\n",
      "Epoch 8/100\n",
      "24/24 [==============================] - 0s 656us/step - loss: 0.7807 - accuracy: 0.3600\n",
      "Epoch 9/100\n",
      "24/24 [==============================] - 0s 639us/step - loss: 0.7651 - accuracy: 0.3747\n",
      "Epoch 10/100\n",
      "24/24 [==============================] - 0s 652us/step - loss: 0.7512 - accuracy: 0.3947\n",
      "Epoch 11/100\n",
      "24/24 [==============================] - 0s 652us/step - loss: 0.7386 - accuracy: 0.4120\n",
      "Epoch 12/100\n",
      "24/24 [==============================] - 0s 696us/step - loss: 0.7276 - accuracy: 0.4427\n",
      "Epoch 13/100\n",
      "24/24 [==============================] - 0s 609us/step - loss: 0.7179 - accuracy: 0.4573\n",
      "Epoch 14/100\n",
      "24/24 [==============================] - 0s 696us/step - loss: 0.7097 - accuracy: 0.4813\n",
      "Epoch 15/100\n",
      "24/24 [==============================] - 0s 652us/step - loss: 0.7026 - accuracy: 0.4973\n",
      "Epoch 16/100\n",
      "24/24 [==============================] - 0s 696us/step - loss: 0.6956 - accuracy: 0.5160\n",
      "Epoch 17/100\n",
      "24/24 [==============================] - 0s 652us/step - loss: 0.6894 - accuracy: 0.5400\n",
      "Epoch 18/100\n",
      "24/24 [==============================] - 0s 652us/step - loss: 0.6837 - accuracy: 0.5560\n",
      "Epoch 19/100\n",
      "24/24 [==============================] - 0s 696us/step - loss: 0.6784 - accuracy: 0.5640\n",
      "Epoch 20/100\n",
      "24/24 [==============================] - 0s 696us/step - loss: 0.6735 - accuracy: 0.5787\n",
      "Epoch 21/100\n",
      "24/24 [==============================] - 0s 784us/step - loss: 0.6689 - accuracy: 0.5907\n",
      "Epoch 22/100\n",
      "24/24 [==============================] - 0s 652us/step - loss: 0.6642 - accuracy: 0.6040\n",
      "Epoch 23/100\n",
      "24/24 [==============================] - 0s 696us/step - loss: 0.6589 - accuracy: 0.6240\n",
      "Epoch 24/100\n",
      "24/24 [==============================] - 0s 696us/step - loss: 0.6533 - accuracy: 0.6387\n",
      "Epoch 25/100\n",
      "24/24 [==============================] - 0s 609us/step - loss: 0.6470 - accuracy: 0.6653\n",
      "Epoch 26/100\n",
      "24/24 [==============================] - 0s 652us/step - loss: 0.6405 - accuracy: 0.6840\n",
      "Epoch 27/100\n",
      "24/24 [==============================] - 0s 652us/step - loss: 0.6333 - accuracy: 0.7147\n",
      "Epoch 28/100\n",
      "24/24 [==============================] - 0s 652us/step - loss: 0.6251 - accuracy: 0.7320\n",
      "Epoch 29/100\n",
      "24/24 [==============================] - 0s 652us/step - loss: 0.6153 - accuracy: 0.7613\n",
      "Epoch 30/100\n",
      "24/24 [==============================] - 0s 652us/step - loss: 0.6040 - accuracy: 0.7867\n",
      "Epoch 31/100\n",
      "24/24 [==============================] - 0s 651us/step - loss: 0.5915 - accuracy: 0.8133\n",
      "Epoch 32/100\n",
      "24/24 [==============================] - 0s 609us/step - loss: 0.5778 - accuracy: 0.8413\n",
      "Epoch 33/100\n",
      "24/24 [==============================] - 0s 649us/step - loss: 0.5621 - accuracy: 0.8667\n",
      "Epoch 34/100\n",
      "24/24 [==============================] - 0s 653us/step - loss: 0.5435 - accuracy: 0.8987\n",
      "Epoch 35/100\n",
      "24/24 [==============================] - 0s 695us/step - loss: 0.5225 - accuracy: 0.9373\n",
      "Epoch 36/100\n",
      "24/24 [==============================] - 0s 696us/step - loss: 0.5012 - accuracy: 0.9653\n",
      "Epoch 37/100\n",
      "24/24 [==============================] - 0s 651us/step - loss: 0.4795 - accuracy: 0.9787\n",
      "Epoch 38/100\n",
      "24/24 [==============================] - 0s 608us/step - loss: 0.4587 - accuracy: 0.9893\n",
      "Epoch 39/100\n",
      "24/24 [==============================] - 0s 652us/step - loss: 0.4394 - accuracy: 0.9960\n",
      "Epoch 40/100\n",
      "24/24 [==============================] - 0s 652us/step - loss: 0.4212 - accuracy: 0.9973\n",
      "Epoch 41/100\n",
      "24/24 [==============================] - 0s 651us/step - loss: 0.4041 - accuracy: 0.9987\n",
      "Epoch 42/100\n",
      "24/24 [==============================] - 0s 652us/step - loss: 0.3879 - accuracy: 0.9987\n",
      "Epoch 43/100\n",
      "24/24 [==============================] - 0s 652us/step - loss: 0.3730 - accuracy: 1.0000\n",
      "Epoch 44/100\n",
      "24/24 [==============================] - 0s 609us/step - loss: 0.3590 - accuracy: 1.0000\n",
      "Epoch 45/100\n",
      "24/24 [==============================] - 0s 652us/step - loss: 0.3459 - accuracy: 1.0000\n",
      "Epoch 46/100\n",
      "24/24 [==============================] - 0s 652us/step - loss: 0.3335 - accuracy: 1.0000\n",
      "Epoch 47/100\n",
      "24/24 [==============================] - 0s 652us/step - loss: 0.3220 - accuracy: 1.0000\n",
      "Epoch 48/100\n",
      "24/24 [==============================] - 0s 652us/step - loss: 0.3111 - accuracy: 1.0000\n",
      "Epoch 49/100\n",
      "24/24 [==============================] - 0s 652us/step - loss: 0.3008 - accuracy: 1.0000\n",
      "Epoch 50/100\n",
      "24/24 [==============================] - 0s 652us/step - loss: 0.2911 - accuracy: 1.0000\n",
      "Epoch 51/100\n",
      "24/24 [==============================] - 0s 694us/step - loss: 0.2819 - accuracy: 1.0000\n",
      "Epoch 52/100\n",
      "24/24 [==============================] - 0s 652us/step - loss: 0.2732 - accuracy: 1.0000\n",
      "Epoch 53/100\n",
      "24/24 [==============================] - 0s 696us/step - loss: 0.2649 - accuracy: 1.0000\n",
      "Epoch 54/100\n",
      "24/24 [==============================] - 0s 652us/step - loss: 0.2571 - accuracy: 1.0000\n",
      "Epoch 55/100\n",
      "24/24 [==============================] - 0s 609us/step - loss: 0.2496 - accuracy: 1.0000\n",
      "Epoch 56/100\n",
      "24/24 [==============================] - 0s 696us/step - loss: 0.2425 - accuracy: 1.0000\n",
      "Epoch 57/100\n",
      "24/24 [==============================] - 0s 652us/step - loss: 0.2358 - accuracy: 1.0000\n",
      "Epoch 58/100\n",
      "24/24 [==============================] - 0s 652us/step - loss: 0.2294 - accuracy: 1.0000\n",
      "Epoch 59/100\n",
      "24/24 [==============================] - 0s 652us/step - loss: 0.2232 - accuracy: 1.0000\n",
      "Epoch 60/100\n",
      "24/24 [==============================] - 0s 652us/step - loss: 0.2174 - accuracy: 1.0000\n",
      "Epoch 61/100\n",
      "24/24 [==============================] - 0s 653us/step - loss: 0.2118 - accuracy: 1.0000\n",
      "Epoch 62/100\n",
      "24/24 [==============================] - 0s 609us/step - loss: 0.2064 - accuracy: 1.0000\n",
      "Epoch 63/100\n",
      "24/24 [==============================] - 0s 609us/step - loss: 0.2013 - accuracy: 1.0000\n",
      "Epoch 64/100\n",
      "24/24 [==============================] - 0s 652us/step - loss: 0.1963 - accuracy: 1.0000\n",
      "Epoch 65/100\n",
      "24/24 [==============================] - 0s 652us/step - loss: 0.1916 - accuracy: 1.0000\n",
      "Epoch 66/100\n",
      "24/24 [==============================] - 0s 652us/step - loss: 0.1870 - accuracy: 1.0000\n",
      "Epoch 67/100\n",
      "24/24 [==============================] - 0s 652us/step - loss: 0.1826 - accuracy: 1.0000\n",
      "Epoch 68/100\n",
      "24/24 [==============================] - 0s 609us/step - loss: 0.1784 - accuracy: 1.0000\n",
      "Epoch 69/100\n",
      "24/24 [==============================] - 0s 652us/step - loss: 0.1743 - accuracy: 1.0000\n",
      "Epoch 70/100\n",
      "24/24 [==============================] - 0s 652us/step - loss: 0.1704 - accuracy: 1.0000\n",
      "Epoch 71/100\n",
      "24/24 [==============================] - 0s 652us/step - loss: 0.1666 - accuracy: 1.0000\n",
      "Epoch 72/100\n",
      "24/24 [==============================] - 0s 652us/step - loss: 0.1630 - accuracy: 1.0000\n",
      "Epoch 73/100\n",
      "24/24 [==============================] - 0s 652us/step - loss: 0.1594 - accuracy: 1.0000\n",
      "Epoch 74/100\n",
      "24/24 [==============================] - 0s 652us/step - loss: 0.1561 - accuracy: 1.0000\n",
      "Epoch 75/100\n",
      "24/24 [==============================] - 0s 652us/step - loss: 0.1527 - accuracy: 1.0000\n",
      "Epoch 76/100\n",
      "24/24 [==============================] - 0s 652us/step - loss: 0.1496 - accuracy: 1.0000\n",
      "Epoch 77/100\n",
      "24/24 [==============================] - 0s 652us/step - loss: 0.1465 - accuracy: 1.0000\n",
      "Epoch 78/100\n",
      "24/24 [==============================] - 0s 652us/step - loss: 0.1435 - accuracy: 1.0000\n",
      "Epoch 79/100\n",
      "24/24 [==============================] - 0s 696us/step - loss: 0.1406 - accuracy: 1.0000\n",
      "Epoch 80/100\n",
      "24/24 [==============================] - 0s 652us/step - loss: 0.1378 - accuracy: 1.0000\n",
      "Epoch 81/100\n",
      "24/24 [==============================] - 0s 652us/step - loss: 0.1351 - accuracy: 1.0000\n",
      "Epoch 82/100\n",
      "24/24 [==============================] - 0s 609us/step - loss: 0.1324 - accuracy: 1.0000\n",
      "Epoch 83/100\n",
      "24/24 [==============================] - 0s 646us/step - loss: 0.1299 - accuracy: 1.0000\n",
      "Epoch 84/100\n",
      "24/24 [==============================] - 0s 652us/step - loss: 0.1274 - accuracy: 1.0000\n",
      "Epoch 85/100\n",
      "24/24 [==============================] - 0s 783us/step - loss: 0.1250 - accuracy: 1.0000\n",
      "Epoch 86/100\n",
      "24/24 [==============================] - 0s 740us/step - loss: 0.1226 - accuracy: 1.0000\n",
      "Epoch 87/100\n",
      "24/24 [==============================] - 0s 740us/step - loss: 0.1204 - accuracy: 1.0000\n",
      "Epoch 88/100\n",
      "24/24 [==============================] - 0s 739us/step - loss: 0.1182 - accuracy: 1.0000\n",
      "Epoch 89/100\n",
      "24/24 [==============================] - 0s 652us/step - loss: 0.1160 - accuracy: 1.0000\n",
      "Epoch 90/100\n",
      "24/24 [==============================] - 0s 652us/step - loss: 0.1139 - accuracy: 1.0000\n",
      "Epoch 91/100\n",
      "24/24 [==============================] - 0s 609us/step - loss: 0.1119 - accuracy: 1.0000\n",
      "Epoch 92/100\n",
      "24/24 [==============================] - 0s 652us/step - loss: 0.1099 - accuracy: 1.0000\n",
      "Epoch 93/100\n",
      "24/24 [==============================] - 0s 609us/step - loss: 0.1079 - accuracy: 1.0000\n",
      "Epoch 94/100\n",
      "24/24 [==============================] - 0s 609us/step - loss: 0.1060 - accuracy: 1.0000\n",
      "Epoch 95/100\n",
      "24/24 [==============================] - 0s 696us/step - loss: 0.1042 - accuracy: 1.0000\n",
      "Epoch 96/100\n",
      "24/24 [==============================] - 0s 609us/step - loss: 0.1024 - accuracy: 1.0000\n",
      "Epoch 97/100\n",
      "24/24 [==============================] - 0s 696us/step - loss: 0.1006 - accuracy: 1.0000\n",
      "Epoch 98/100\n",
      "24/24 [==============================] - 0s 652us/step - loss: 0.0989 - accuracy: 1.0000\n",
      "Epoch 99/100\n",
      "24/24 [==============================] - 0s 696us/step - loss: 0.0973 - accuracy: 1.0000\n",
      "Epoch 100/100\n",
      "24/24 [==============================] - 0s 696us/step - loss: 0.0956 - accuracy: 1.0000\n"
     ]
    }
   ],
   "source": [
    "# Fit the model to the training data\n",
    "fit_model = nn_model.fit(X_train_scaled, y_train, epochs=100)"
   ]
  },
  {
   "cell_type": "code",
   "execution_count": 16,
   "id": "c6ceac6f",
   "metadata": {},
   "outputs": [
    {
     "data": {
      "text/plain": [
       "<AxesSubplot:>"
      ]
     },
     "execution_count": 16,
     "metadata": {},
     "output_type": "execute_result"
    },
    {
     "data": {
      "image/png": "[encoded data removed]",
      "text/plain": [
       "<Figure size 432x288 with 1 Axes>"
      ]
     },
     "metadata": {
      "needs_background": "light"
     },
     "output_type": "display_data"
    }
   ],
   "source": [
    "# Create a DataFrame containing training history\n",
    "history_df = pd.DataFrame(fit_model.history, index=range(1,len(fit_model.history[\"loss\"])+1))\n",
    "\n",
    "# Plot the loss\n",
    "history_df.plot(y=\"loss\")"
   ]
  },
  {
   "cell_type": "code",
   "execution_count": 17,
   "id": "bbdaa4b9",
   "metadata": {},
   "outputs": [
    {
     "data": {
      "text/plain": [
       "<AxesSubplot:>"
      ]
     },
     "execution_count": 17,
     "metadata": {},
     "output_type": "execute_result"
    },
    {
     "data": {
      "image/png": "[encoded data removed]",
      "text/plain": [
       "<Figure size 432x288 with 1 Axes>"
      ]
     },
     "metadata": {
      "needs_background": "light"
     },
     "output_type": "display_data"
    }
   ],
   "source": [
    "# Plot the accuracy\n",
    "history_df.plot(y=\"accuracy\")"
   ]
  },
  {
   "cell_type": "code",
   "execution_count": 18,
   "id": "f5c40f75",
   "metadata": {},
   "outputs": [
    {
     "name": "stdout",
     "output_type": "stream",
     "text": [
      "8/8 - 0s - loss: 0.0899 - accuracy: 1.0000 - 95ms/epoch - 12ms/step\n",
      "Loss: 0.08990596234798431, Accuracy: 1.0\n"
     ]
    }
   ],
   "source": [
    "# Evaluate the model using the test data\n",
    "model_loss, model_accuracy = nn_model.evaluate(X_test_scaled, y_test, verbose=2)\n",
    "print(f\"Loss: {model_loss}, Accuracy: {model_accuracy}\")"
   ]
  },
  {
   "cell_type": "code",
   "execution_count": 19,
   "id": "240c9153",
   "metadata": {},
   "outputs": [
    {
     "data": {
      "text/plain": [
       "array([[0],\n",
       "       [1],\n",
       "       [0],\n",
       "       [1],\n",
       "       [0],\n",
       "       [0],\n",
       "       [1],\n",
       "       [1],\n",
       "       [1],\n",
       "       [0]])"
      ]
     },
     "execution_count": 19,
     "metadata": {},
     "output_type": "execute_result"
    }
   ],
   "source": [
    "# Predict the classification of a new set of blob data\n",
    "new_X, new_Y = make_blobs(n_samples=10, centers=2, n_features=2, random_state=78)\n",
    "new_X_scaled = X_scaler.transform(new_X)\n",
    "(nn_model.predict(new_X_scaled) > 0.5).astype(\"int32\")"
   ]
  },
  {
   "cell_type": "code",
   "execution_count": 20,
   "id": "3d3755a9",
   "metadata": {},
   "outputs": [
    {
     "data": {
      "text/plain": [
       "<AxesSubplot:xlabel='Feature 1', ylabel='Feature 2'>"
      ]
     },
     "execution_count": 20,
     "metadata": {},
     "output_type": "execute_result"
    },
    {
     "data": {
      "image/png": "[encoded data removed]",
      "text/plain": [
       "<Figure size 432x288 with 2 Axes>"
      ]
     },
     "metadata": {
      "needs_background": "light"
     },
     "output_type": "display_data"
    }
   ],
   "source": [
    "from sklearn.datasets import make_moons\n",
    "\n",
    "# Creating dummy nonlinear data\n",
    "X_moons, y_moons = make_moons(n_samples=1000, noise=0.08, random_state=78)\n",
    "\n",
    "# Transforming y_moons to a vertical vector\n",
    "y_moons = y_moons.reshape(-1, 1)\n",
    "\n",
    "# Creating a DataFrame to plot the nonlinear dummy data\n",
    "df_moons = pd.DataFrame(X_moons, columns=[\"Feature 1\", \"Feature 2\"])\n",
    "df_moons[\"Target\"] = y_moons\n",
    "\n",
    "# Plot the nonlinear dummy data\n",
    "df_moons.plot.scatter(x=\"Feature 1\",y=\"Feature 2\", c=\"Target\",colormap=\"winter\")"
   ]
  },
  {
   "cell_type": "code",
   "execution_count": 21,
   "id": "203fdcd5",
   "metadata": {},
   "outputs": [],
   "source": [
    "# Create training and testing sets\n",
    "X_moon_train, X_moon_test, y_moon_train, y_moon_test = train_test_split(\n",
    "    X_moons, y_moons, random_state=78\n",
    ")\n",
    "\n",
    "# Create the scaler instance\n",
    "X_moon_scaler = skl.preprocessing.StandardScaler()\n",
    "\n",
    "# Fit the scaler\n",
    "X_moon_scaler.fit(X_moon_train)\n",
    "\n",
    "# Scale the data\n",
    "X_moon_train_scaled = X_moon_scaler.transform(X_moon_train)\n",
    "X_moon_test_scaled = X_moon_scaler.transform(X_moon_test)"
   ]
  },
  {
   "cell_type": "code",
   "execution_count": 22,
   "id": "f12cecf7",
   "metadata": {},
   "outputs": [
    {
     "name": "stdout",
     "output_type": "stream",
     "text": [
      "Epoch 1/100\n",
      "24/24 [==============================] - 0s 957us/step - loss: 0.6869 - accuracy: 0.6600\n",
      "Epoch 2/100\n",
      "24/24 [==============================] - 0s 957us/step - loss: 0.6311 - accuracy: 0.6800\n",
      "Epoch 3/100\n",
      "24/24 [==============================] - 0s 913us/step - loss: 0.5857 - accuracy: 0.6947\n",
      "Epoch 4/100\n",
      "24/24 [==============================] - 0s 957us/step - loss: 0.5509 - accuracy: 0.7107\n",
      "Epoch 5/100\n",
      "24/24 [==============================] - 0s 957us/step - loss: 0.5239 - accuracy: 0.7200\n",
      "Epoch 6/100\n",
      "24/24 [==============================] - 0s 1000us/step - loss: 0.5015 - accuracy: 0.7307\n",
      "Epoch 7/100\n",
      "24/24 [==============================] - 0s 1ms/step - loss: 0.4832 - accuracy: 0.7413\n",
      "Epoch 8/100\n",
      "24/24 [==============================] - 0s 1ms/step - loss: 0.4675 - accuracy: 0.7560\n",
      "Epoch 9/100\n",
      "24/24 [==============================] - 0s 1ms/step - loss: 0.4537 - accuracy: 0.7667\n",
      "Epoch 10/100\n",
      "24/24 [==============================] - 0s 999us/step - loss: 0.4412 - accuracy: 0.7720\n",
      "Epoch 11/100\n",
      "24/24 [==============================] - 0s 955us/step - loss: 0.4302 - accuracy: 0.7787\n",
      "Epoch 12/100\n",
      "24/24 [==============================] - 0s 964us/step - loss: 0.4199 - accuracy: 0.7867\n",
      "Epoch 13/100\n",
      "24/24 [==============================] - 0s 1ms/step - loss: 0.4109 - accuracy: 0.7880\n",
      "Epoch 14/100\n",
      "24/24 [==============================] - 0s 1ms/step - loss: 0.4024 - accuracy: 0.7920\n",
      "Epoch 15/100\n",
      "24/24 [==============================] - 0s 1ms/step - loss: 0.3947 - accuracy: 0.8000\n",
      "Epoch 16/100\n",
      "24/24 [==============================] - 0s 1ms/step - loss: 0.3873 - accuracy: 0.8067\n",
      "Epoch 17/100\n",
      "24/24 [==============================] - 0s 1ms/step - loss: 0.3803 - accuracy: 0.8093\n",
      "Epoch 18/100\n",
      "24/24 [==============================] - 0s 1ms/step - loss: 0.3739 - accuracy: 0.8147\n",
      "Epoch 19/100\n",
      "24/24 [==============================] - 0s 1ms/step - loss: 0.3677 - accuracy: 0.8187\n",
      "Epoch 20/100\n",
      "24/24 [==============================] - 0s 960us/step - loss: 0.3619 - accuracy: 0.8200\n",
      "Epoch 21/100\n",
      "24/24 [==============================] - 0s 982us/step - loss: 0.3563 - accuracy: 0.8213\n",
      "Epoch 22/100\n",
      "24/24 [==============================] - 0s 1ms/step - loss: 0.3510 - accuracy: 0.8253\n",
      "Epoch 23/100\n",
      "24/24 [==============================] - 0s 1ms/step - loss: 0.3460 - accuracy: 0.8307\n",
      "Epoch 24/100\n",
      "24/24 [==============================] - 0s 1ms/step - loss: 0.3412 - accuracy: 0.8307\n",
      "Epoch 25/100\n",
      "24/24 [==============================] - 0s 999us/step - loss: 0.3368 - accuracy: 0.8320\n",
      "Epoch 26/100\n",
      "24/24 [==============================] - 0s 957us/step - loss: 0.3326 - accuracy: 0.8373\n",
      "Epoch 27/100\n",
      "24/24 [==============================] - 0s 956us/step - loss: 0.3283 - accuracy: 0.8387\n",
      "Epoch 28/100\n",
      "24/24 [==============================] - 0s 957us/step - loss: 0.3244 - accuracy: 0.8400\n",
      "Epoch 29/100\n",
      "24/24 [==============================] - 0s 956us/step - loss: 0.3206 - accuracy: 0.8413\n",
      "Epoch 30/100\n",
      "24/24 [==============================] - 0s 913us/step - loss: 0.3171 - accuracy: 0.8453\n",
      "Epoch 31/100\n",
      "24/24 [==============================] - 0s 913us/step - loss: 0.3135 - accuracy: 0.8493\n",
      "Epoch 32/100\n",
      "24/24 [==============================] - 0s 956us/step - loss: 0.3101 - accuracy: 0.8507\n",
      "Epoch 33/100\n",
      "24/24 [==============================] - 0s 956us/step - loss: 0.3069 - accuracy: 0.8533\n",
      "Epoch 34/100\n",
      "24/24 [==============================] - 0s 913us/step - loss: 0.3038 - accuracy: 0.8533\n",
      "Epoch 35/100\n",
      "24/24 [==============================] - 0s 913us/step - loss: 0.3011 - accuracy: 0.8573\n",
      "Epoch 36/100\n",
      "24/24 [==============================] - 0s 956us/step - loss: 0.2983 - accuracy: 0.8640\n",
      "Epoch 37/100\n",
      "24/24 [==============================] - 0s 913us/step - loss: 0.2959 - accuracy: 0.8653\n",
      "Epoch 38/100\n",
      "24/24 [==============================] - 0s 956us/step - loss: 0.2937 - accuracy: 0.8707\n",
      "Epoch 39/100\n",
      "24/24 [==============================] - 0s 911us/step - loss: 0.2918 - accuracy: 0.8733\n",
      "Epoch 40/100\n",
      "24/24 [==============================] - 0s 913us/step - loss: 0.2899 - accuracy: 0.8747\n",
      "Epoch 41/100\n",
      "24/24 [==============================] - 0s 913us/step - loss: 0.2881 - accuracy: 0.8773\n",
      "Epoch 42/100\n",
      "24/24 [==============================] - 0s 956us/step - loss: 0.2866 - accuracy: 0.8800\n",
      "Epoch 43/100\n",
      "24/24 [==============================] - 0s 870us/step - loss: 0.2851 - accuracy: 0.8813\n",
      "Epoch 44/100\n",
      "24/24 [==============================] - 0s 913us/step - loss: 0.2838 - accuracy: 0.8813\n",
      "Epoch 45/100\n",
      "24/24 [==============================] - 0s 962us/step - loss: 0.2827 - accuracy: 0.8853\n",
      "Epoch 46/100\n",
      "24/24 [==============================] - 0s 1ms/step - loss: 0.2815 - accuracy: 0.8853\n",
      "Epoch 47/100\n",
      "24/24 [==============================] - 0s 923us/step - loss: 0.2804 - accuracy: 0.8880\n",
      "Epoch 48/100\n",
      "24/24 [==============================] - 0s 958us/step - loss: 0.2794 - accuracy: 0.8880\n",
      "Epoch 49/100\n",
      "24/24 [==============================] - 0s 913us/step - loss: 0.2785 - accuracy: 0.8880\n",
      "Epoch 50/100\n",
      "24/24 [==============================] - 0s 920us/step - loss: 0.2777 - accuracy: 0.8880\n",
      "Epoch 51/100\n",
      "24/24 [==============================] - 0s 899us/step - loss: 0.2770 - accuracy: 0.8880\n",
      "Epoch 52/100\n",
      "24/24 [==============================] - 0s 910us/step - loss: 0.2763 - accuracy: 0.8907\n",
      "Epoch 53/100\n",
      "24/24 [==============================] - 0s 913us/step - loss: 0.2756 - accuracy: 0.8907\n",
      "Epoch 54/100\n",
      "24/24 [==============================] - 0s 957us/step - loss: 0.2750 - accuracy: 0.8920\n",
      "Epoch 55/100\n",
      "24/24 [==============================] - 0s 956us/step - loss: 0.2746 - accuracy: 0.8920\n",
      "Epoch 56/100\n",
      "24/24 [==============================] - 0s 957us/step - loss: 0.2738 - accuracy: 0.8920\n",
      "Epoch 57/100\n",
      "24/24 [==============================] - 0s 1ms/step - loss: 0.2733 - accuracy: 0.8920\n",
      "Epoch 58/100\n",
      "24/24 [==============================] - 0s 956us/step - loss: 0.2728 - accuracy: 0.8933\n",
      "Epoch 59/100\n",
      "24/24 [==============================] - 0s 913us/step - loss: 0.2723 - accuracy: 0.8920\n",
      "Epoch 60/100\n",
      "24/24 [==============================] - 0s 958us/step - loss: 0.2717 - accuracy: 0.8920\n",
      "Epoch 61/100\n",
      "24/24 [==============================] - 0s 1ms/step - loss: 0.2714 - accuracy: 0.8920\n",
      "Epoch 62/100\n",
      "24/24 [==============================] - 0s 1ms/step - loss: 0.2708 - accuracy: 0.8907\n",
      "Epoch 63/100\n",
      "24/24 [==============================] - 0s 958us/step - loss: 0.2704 - accuracy: 0.8907\n",
      "Epoch 64/100\n",
      "24/24 [==============================] - 0s 1ms/step - loss: 0.2700 - accuracy: 0.8907\n",
      "Epoch 65/100\n",
      "24/24 [==============================] - 0s 999us/step - loss: 0.2697 - accuracy: 0.8920\n",
      "Epoch 66/100\n",
      "24/24 [==============================] - 0s 990us/step - loss: 0.2692 - accuracy: 0.8920\n",
      "Epoch 67/100\n",
      "24/24 [==============================] - 0s 972us/step - loss: 0.2688 - accuracy: 0.8920\n",
      "Epoch 68/100\n",
      "24/24 [==============================] - 0s 960us/step - loss: 0.2685 - accuracy: 0.8920\n",
      "Epoch 69/100\n",
      "24/24 [==============================] - 0s 1ms/step - loss: 0.2681 - accuracy: 0.8920\n",
      "Epoch 70/100\n",
      "24/24 [==============================] - 0s 1ms/step - loss: 0.2678 - accuracy: 0.8920\n",
      "Epoch 71/100\n",
      "24/24 [==============================] - 0s 1ms/step - loss: 0.2676 - accuracy: 0.8920\n",
      "Epoch 72/100\n",
      "24/24 [==============================] - 0s 956us/step - loss: 0.2674 - accuracy: 0.8920\n",
      "Epoch 73/100\n",
      "24/24 [==============================] - 0s 969us/step - loss: 0.2668 - accuracy: 0.8920\n",
      "Epoch 74/100\n",
      "24/24 [==============================] - 0s 912us/step - loss: 0.2666 - accuracy: 0.8920\n",
      "Epoch 75/100\n",
      "24/24 [==============================] - 0s 927us/step - loss: 0.2662 - accuracy: 0.8920\n",
      "Epoch 76/100\n",
      "24/24 [==============================] - 0s 957us/step - loss: 0.2659 - accuracy: 0.8920\n",
      "Epoch 77/100\n",
      "24/24 [==============================] - 0s 940us/step - loss: 0.2656 - accuracy: 0.8920\n",
      "Epoch 78/100\n",
      "24/24 [==============================] - 0s 999us/step - loss: 0.2653 - accuracy: 0.8920\n",
      "Epoch 79/100\n",
      "24/24 [==============================] - 0s 964us/step - loss: 0.2651 - accuracy: 0.8920\n",
      "Epoch 80/100\n",
      "24/24 [==============================] - 0s 958us/step - loss: 0.2648 - accuracy: 0.8920\n",
      "Epoch 81/100\n",
      "24/24 [==============================] - 0s 956us/step - loss: 0.2645 - accuracy: 0.8920\n",
      "Epoch 82/100\n",
      "24/24 [==============================] - 0s 913us/step - loss: 0.2643 - accuracy: 0.8920\n",
      "Epoch 83/100\n",
      "24/24 [==============================] - 0s 955us/step - loss: 0.2640 - accuracy: 0.8920\n",
      "Epoch 84/100\n",
      "24/24 [==============================] - 0s 957us/step - loss: 0.2638 - accuracy: 0.8920\n",
      "Epoch 85/100\n",
      "24/24 [==============================] - 0s 1ms/step - loss: 0.2635 - accuracy: 0.8920\n",
      "Epoch 86/100\n",
      "24/24 [==============================] - 0s 1000us/step - loss: 0.2633 - accuracy: 0.8920\n",
      "Epoch 87/100\n",
      "24/24 [==============================] - 0s 1000us/step - loss: 0.2630 - accuracy: 0.8920\n",
      "Epoch 88/100\n",
      "24/24 [==============================] - 0s 1ms/step - loss: 0.2628 - accuracy: 0.8920\n",
      "Epoch 89/100\n",
      "24/24 [==============================] - 0s 1ms/step - loss: 0.2626 - accuracy: 0.8920\n",
      "Epoch 90/100\n",
      "24/24 [==============================] - 0s 956us/step - loss: 0.2625 - accuracy: 0.8920\n",
      "Epoch 91/100\n",
      "24/24 [==============================] - 0s 957us/step - loss: 0.2623 - accuracy: 0.8920\n",
      "Epoch 92/100\n",
      "24/24 [==============================] - 0s 1ms/step - loss: 0.2620 - accuracy: 0.8920\n",
      "Epoch 93/100\n",
      "24/24 [==============================] - 0s 1ms/step - loss: 0.2618 - accuracy: 0.8920\n",
      "Epoch 94/100\n",
      "24/24 [==============================] - 0s 956us/step - loss: 0.2616 - accuracy: 0.8920\n",
      "Epoch 95/100\n",
      "24/24 [==============================] - 0s 957us/step - loss: 0.2614 - accuracy: 0.8907\n",
      "Epoch 96/100\n",
      "24/24 [==============================] - 0s 957us/step - loss: 0.2612 - accuracy: 0.8907\n",
      "Epoch 97/100\n",
      "24/24 [==============================] - 0s 959us/step - loss: 0.2609 - accuracy: 0.8907\n",
      "Epoch 98/100\n",
      "24/24 [==============================] - 0s 913us/step - loss: 0.2608 - accuracy: 0.8907\n",
      "Epoch 99/100\n",
      "24/24 [==============================] - 0s 957us/step - loss: 0.2606 - accuracy: 0.8907\n",
      "Epoch 100/100\n",
      "24/24 [==============================] - 0s 957us/step - loss: 0.2605 - accuracy: 0.8907\n"
     ]
    }
   ],
   "source": [
    "# Training the model with the nonlinear data\n",
    "model_moon = nn_model.fit(X_moon_train_scaled, y_moon_train, epochs=100, shuffle=True)"
   ]
  },
  {
   "cell_type": "code",
   "execution_count": 23,
   "id": "a3b8ff76",
   "metadata": {},
   "outputs": [
    {
     "data": {
      "text/plain": [
       "<AxesSubplot:>"
      ]
     },
     "execution_count": 23,
     "metadata": {},
     "output_type": "execute_result"
    },
    {
     "data": {
      "image/png": "[encoded data removed]",
      "text/plain": [
       "<Figure size 432x288 with 1 Axes>"
      ]
     },
     "metadata": {
      "needs_background": "light"
     },
     "output_type": "display_data"
    }
   ],
   "source": [
    "# Create a DataFrame containing training history\n",
    "history_df = pd.DataFrame(model_moon.history, index=range(1,len(model_moon.history[\"loss\"])+1))\n",
    "\n",
    "# Plot the loss\n",
    "history_df.plot(y=\"loss\")"
   ]
  },
  {
   "cell_type": "code",
   "execution_count": 24,
   "id": "c6ea97b0",
   "metadata": {},
   "outputs": [
    {
     "data": {
      "text/plain": [
       "<AxesSubplot:>"
      ]
     },
     "execution_count": 24,
     "metadata": {},
     "output_type": "execute_result"
    },
    {
     "data": {
      "image/png": "[encoded data removed]",
      "text/plain": [
       "<Figure size 432x288 with 1 Axes>"
      ]
     },
     "metadata": {
      "needs_background": "light"
     },
     "output_type": "display_data"
    }
   ],
   "source": [
    "# Plot the accuracy\n",
    "history_df.plot(y=\"accuracy\")"
   ]
  },
  {
   "cell_type": "code",
   "execution_count": 25,
   "id": "3188b367",
   "metadata": {},
   "outputs": [],
   "source": [
    "# Generate our new Sequential model\n",
    "new_model = tf.keras.models.Sequential()"
   ]
  },
  {
   "cell_type": "code",
   "execution_count": 26,
   "id": "0bd321fa",
   "metadata": {},
   "outputs": [],
   "source": [
    "# Add the input and hidden layer\n",
    "number_inputs = 2\n",
    "number_hidden_nodes = 6\n",
    "\n",
    "new_model.add(tf.keras.layers.Dense(units=number_hidden_nodes, activation=\"relu\", input_dim=number_inputs))\n",
    "\n",
    "# Add the output layer that uses a probability activation function\n",
    "new_model.add(tf.keras.layers.Dense(units=1, activation=\"sigmoid\"))"
   ]
  },
  {
   "cell_type": "code",
   "execution_count": 27,
   "id": "cd98f2b3",
   "metadata": {},
   "outputs": [
    {
     "name": "stdout",
     "output_type": "stream",
     "text": [
      "Epoch 1/100\n",
      "24/24 [==============================] - 0s 868us/step - loss: 0.7736 - accuracy: 0.5733\n",
      "Epoch 2/100\n",
      "24/24 [==============================] - 0s 783us/step - loss: 0.7299 - accuracy: 0.6013\n",
      "Epoch 3/100\n",
      "24/24 [==============================] - 0s 740us/step - loss: 0.6918 - accuracy: 0.6333\n",
      "Epoch 4/100\n",
      "24/24 [==============================] - 0s 653us/step - loss: 0.6591 - accuracy: 0.6627\n",
      "Epoch 5/100\n",
      "24/24 [==============================] - 0s 609us/step - loss: 0.6286 - accuracy: 0.6947\n",
      "Epoch 6/100\n",
      "24/24 [==============================] - 0s 653us/step - loss: 0.6014 - accuracy: 0.7000\n",
      "Epoch 7/100\n",
      "24/24 [==============================] - 0s 653us/step - loss: 0.5757 - accuracy: 0.7067\n",
      "Epoch 8/100\n",
      "24/24 [==============================] - 0s 713us/step - loss: 0.5515 - accuracy: 0.7173\n",
      "Epoch 9/100\n",
      "24/24 [==============================] - 0s 695us/step - loss: 0.5282 - accuracy: 0.7427\n",
      "Epoch 10/100\n",
      "24/24 [==============================] - 0s 739us/step - loss: 0.5064 - accuracy: 0.7653\n",
      "Epoch 11/100\n",
      "24/24 [==============================] - 0s 696us/step - loss: 0.4856 - accuracy: 0.7973\n",
      "Epoch 12/100\n",
      "24/24 [==============================] - 0s 738us/step - loss: 0.4659 - accuracy: 0.8227\n",
      "Epoch 13/100\n",
      "24/24 [==============================] - 0s 696us/step - loss: 0.4477 - accuracy: 0.8440\n",
      "Epoch 14/100\n",
      "24/24 [==============================] - 0s 740us/step - loss: 0.4306 - accuracy: 0.8640\n",
      "Epoch 15/100\n",
      "24/24 [==============================] - 0s 696us/step - loss: 0.4149 - accuracy: 0.8707\n",
      "Epoch 16/100\n",
      "24/24 [==============================] - 0s 696us/step - loss: 0.4003 - accuracy: 0.8733\n",
      "Epoch 17/100\n",
      "24/24 [==============================] - 0s 651us/step - loss: 0.3869 - accuracy: 0.8760\n",
      "Epoch 18/100\n",
      "24/24 [==============================] - 0s 645us/step - loss: 0.3747 - accuracy: 0.8773\n",
      "Epoch 19/100\n",
      "24/24 [==============================] - 0s 836us/step - loss: 0.3637 - accuracy: 0.8773\n",
      "Epoch 20/100\n",
      "24/24 [==============================] - 0s 695us/step - loss: 0.3534 - accuracy: 0.8773\n",
      "Epoch 21/100\n",
      "24/24 [==============================] - 0s 694us/step - loss: 0.3442 - accuracy: 0.8773\n",
      "Epoch 22/100\n",
      "24/24 [==============================] - 0s 609us/step - loss: 0.3357 - accuracy: 0.8773\n",
      "Epoch 23/100\n",
      "24/24 [==============================] - 0s 696us/step - loss: 0.3280 - accuracy: 0.8773\n",
      "Epoch 24/100\n",
      "24/24 [==============================] - 0s 652us/step - loss: 0.3209 - accuracy: 0.8773\n",
      "Epoch 25/100\n",
      "24/24 [==============================] - 0s 652us/step - loss: 0.3146 - accuracy: 0.8787\n",
      "Epoch 26/100\n",
      "24/24 [==============================] - 0s 652us/step - loss: 0.3088 - accuracy: 0.8787\n",
      "Epoch 27/100\n",
      "24/24 [==============================] - 0s 737us/step - loss: 0.3036 - accuracy: 0.8800\n",
      "Epoch 28/100\n",
      "24/24 [==============================] - 0s 652us/step - loss: 0.2987 - accuracy: 0.8800\n",
      "Epoch 29/100\n",
      "24/24 [==============================] - 0s 609us/step - loss: 0.2943 - accuracy: 0.8800\n",
      "Epoch 30/100\n",
      "24/24 [==============================] - 0s 739us/step - loss: 0.2903 - accuracy: 0.8800\n",
      "Epoch 31/100\n",
      "24/24 [==============================] - 0s 652us/step - loss: 0.2866 - accuracy: 0.8800\n",
      "Epoch 32/100\n",
      "24/24 [==============================] - 0s 652us/step - loss: 0.2833 - accuracy: 0.8840\n",
      "Epoch 33/100\n",
      "24/24 [==============================] - 0s 609us/step - loss: 0.2803 - accuracy: 0.8867\n",
      "Epoch 34/100\n",
      "24/24 [==============================] - 0s 653us/step - loss: 0.2775 - accuracy: 0.8867\n",
      "Epoch 35/100\n",
      "24/24 [==============================] - 0s 652us/step - loss: 0.2749 - accuracy: 0.8880\n",
      "Epoch 36/100\n",
      "24/24 [==============================] - 0s 652us/step - loss: 0.2727 - accuracy: 0.8880\n",
      "Epoch 37/100\n",
      "24/24 [==============================] - 0s 652us/step - loss: 0.2705 - accuracy: 0.8907\n",
      "Epoch 38/100\n",
      "24/24 [==============================] - 0s 652us/step - loss: 0.2686 - accuracy: 0.8920\n",
      "Epoch 39/100\n",
      "24/24 [==============================] - 0s 652us/step - loss: 0.2669 - accuracy: 0.8920\n",
      "Epoch 40/100\n",
      "24/24 [==============================] - 0s 652us/step - loss: 0.2652 - accuracy: 0.8907\n",
      "Epoch 41/100\n",
      "24/24 [==============================] - 0s 652us/step - loss: 0.2639 - accuracy: 0.8933\n",
      "Epoch 42/100\n",
      "24/24 [==============================] - 0s 696us/step - loss: 0.2625 - accuracy: 0.8920\n",
      "Epoch 43/100\n",
      "24/24 [==============================] - 0s 652us/step - loss: 0.2614 - accuracy: 0.8933\n",
      "Epoch 44/100\n",
      "24/24 [==============================] - 0s 652us/step - loss: 0.2602 - accuracy: 0.8933\n",
      "Epoch 45/100\n",
      "24/24 [==============================] - 0s 652us/step - loss: 0.2592 - accuracy: 0.8933\n",
      "Epoch 46/100\n",
      "24/24 [==============================] - 0s 652us/step - loss: 0.2584 - accuracy: 0.8933\n",
      "Epoch 47/100\n",
      "24/24 [==============================] - 0s 652us/step - loss: 0.2575 - accuracy: 0.8933\n",
      "Epoch 48/100\n",
      "24/24 [==============================] - 0s 652us/step - loss: 0.2568 - accuracy: 0.8933\n",
      "Epoch 49/100\n",
      "24/24 [==============================] - 0s 609us/step - loss: 0.2561 - accuracy: 0.8933\n",
      "Epoch 50/100\n",
      "24/24 [==============================] - 0s 696us/step - loss: 0.2555 - accuracy: 0.8933\n",
      "Epoch 51/100\n",
      "24/24 [==============================] - 0s 652us/step - loss: 0.2550 - accuracy: 0.8920\n",
      "Epoch 52/100\n",
      "24/24 [==============================] - 0s 652us/step - loss: 0.2544 - accuracy: 0.8920\n",
      "Epoch 53/100\n",
      "24/24 [==============================] - 0s 652us/step - loss: 0.2540 - accuracy: 0.8933\n",
      "Epoch 54/100\n",
      "24/24 [==============================] - 0s 652us/step - loss: 0.2535 - accuracy: 0.8920\n",
      "Epoch 55/100\n",
      "24/24 [==============================] - 0s 609us/step - loss: 0.2534 - accuracy: 0.8920\n",
      "Epoch 56/100\n",
      "24/24 [==============================] - 0s 609us/step - loss: 0.2528 - accuracy: 0.8920\n",
      "Epoch 57/100\n",
      "24/24 [==============================] - 0s 696us/step - loss: 0.2525 - accuracy: 0.8920\n",
      "Epoch 58/100\n",
      "24/24 [==============================] - 0s 609us/step - loss: 0.2522 - accuracy: 0.8920\n",
      "Epoch 59/100\n",
      "24/24 [==============================] - 0s 652us/step - loss: 0.2518 - accuracy: 0.8920\n",
      "Epoch 60/100\n",
      "24/24 [==============================] - 0s 652us/step - loss: 0.2516 - accuracy: 0.8920\n",
      "Epoch 61/100\n",
      "24/24 [==============================] - 0s 652us/step - loss: 0.2513 - accuracy: 0.8920\n",
      "Epoch 62/100\n",
      "24/24 [==============================] - 0s 652us/step - loss: 0.2511 - accuracy: 0.8920\n",
      "Epoch 63/100\n",
      "24/24 [==============================] - 0s 652us/step - loss: 0.2509 - accuracy: 0.8920\n",
      "Epoch 64/100\n",
      "24/24 [==============================] - 0s 696us/step - loss: 0.2508 - accuracy: 0.8920\n",
      "Epoch 65/100\n",
      "24/24 [==============================] - 0s 696us/step - loss: 0.2506 - accuracy: 0.8920\n",
      "Epoch 66/100\n",
      "24/24 [==============================] - 0s 652us/step - loss: 0.2503 - accuracy: 0.8920\n",
      "Epoch 67/100\n",
      "24/24 [==============================] - 0s 609us/step - loss: 0.2501 - accuracy: 0.8920\n",
      "Epoch 68/100\n",
      "24/24 [==============================] - 0s 609us/step - loss: 0.2499 - accuracy: 0.8920\n",
      "Epoch 69/100\n",
      "24/24 [==============================] - 0s 609us/step - loss: 0.2497 - accuracy: 0.8920\n",
      "Epoch 70/100\n",
      "24/24 [==============================] - 0s 652us/step - loss: 0.2495 - accuracy: 0.8920\n",
      "Epoch 71/100\n",
      "24/24 [==============================] - 0s 652us/step - loss: 0.2494 - accuracy: 0.8920\n",
      "Epoch 72/100\n",
      "24/24 [==============================] - 0s 652us/step - loss: 0.2495 - accuracy: 0.8920\n",
      "Epoch 73/100\n",
      "24/24 [==============================] - 0s 652us/step - loss: 0.2491 - accuracy: 0.8920\n",
      "Epoch 74/100\n",
      "24/24 [==============================] - 0s 696us/step - loss: 0.2490 - accuracy: 0.8920\n",
      "Epoch 75/100\n",
      "24/24 [==============================] - 0s 652us/step - loss: 0.2489 - accuracy: 0.8920\n",
      "Epoch 76/100\n",
      "24/24 [==============================] - 0s 652us/step - loss: 0.2488 - accuracy: 0.8920\n",
      "Epoch 77/100\n",
      "24/24 [==============================] - 0s 609us/step - loss: 0.2486 - accuracy: 0.8920\n",
      "Epoch 78/100\n",
      "24/24 [==============================] - 0s 652us/step - loss: 0.2486 - accuracy: 0.8920\n",
      "Epoch 79/100\n",
      "24/24 [==============================] - 0s 871us/step - loss: 0.2485 - accuracy: 0.8920\n",
      "Epoch 80/100\n",
      "24/24 [==============================] - 0s 696us/step - loss: 0.2483 - accuracy: 0.8933\n",
      "Epoch 81/100\n",
      "24/24 [==============================] - 0s 609us/step - loss: 0.2483 - accuracy: 0.8920\n",
      "Epoch 82/100\n",
      "24/24 [==============================] - 0s 609us/step - loss: 0.2483 - accuracy: 0.8933\n",
      "Epoch 83/100\n",
      "24/24 [==============================] - 0s 696us/step - loss: 0.2480 - accuracy: 0.8933\n",
      "Epoch 84/100\n",
      "24/24 [==============================] - 0s 652us/step - loss: 0.2479 - accuracy: 0.8920\n",
      "Epoch 85/100\n",
      "24/24 [==============================] - 0s 613us/step - loss: 0.2478 - accuracy: 0.8920\n",
      "Epoch 86/100\n",
      "24/24 [==============================] - 0s 695us/step - loss: 0.2477 - accuracy: 0.8933\n",
      "Epoch 87/100\n",
      "24/24 [==============================] - 0s 696us/step - loss: 0.2477 - accuracy: 0.8920\n",
      "Epoch 88/100\n",
      "24/24 [==============================] - 0s 652us/step - loss: 0.2475 - accuracy: 0.8920\n",
      "Epoch 89/100\n",
      "24/24 [==============================] - 0s 652us/step - loss: 0.2474 - accuracy: 0.8933\n",
      "Epoch 90/100\n",
      "24/24 [==============================] - 0s 652us/step - loss: 0.2473 - accuracy: 0.8920\n",
      "Epoch 91/100\n",
      "24/24 [==============================] - 0s 652us/step - loss: 0.2472 - accuracy: 0.8920\n",
      "Epoch 92/100\n",
      "24/24 [==============================] - 0s 696us/step - loss: 0.2471 - accuracy: 0.8920\n",
      "Epoch 93/100\n",
      "24/24 [==============================] - 0s 652us/step - loss: 0.2470 - accuracy: 0.8933\n",
      "Epoch 94/100\n",
      "24/24 [==============================] - 0s 696us/step - loss: 0.2469 - accuracy: 0.8933\n",
      "Epoch 95/100\n",
      "24/24 [==============================] - 0s 652us/step - loss: 0.2469 - accuracy: 0.8933\n",
      "Epoch 96/100\n",
      "24/24 [==============================] - 0s 654us/step - loss: 0.2467 - accuracy: 0.8920\n",
      "Epoch 97/100\n",
      "24/24 [==============================] - 0s 652us/step - loss: 0.2466 - accuracy: 0.8933\n",
      "Epoch 98/100\n",
      "24/24 [==============================] - 0s 696us/step - loss: 0.2466 - accuracy: 0.8933\n",
      "Epoch 99/100\n",
      "24/24 [==============================] - 0s 696us/step - loss: 0.2463 - accuracy: 0.8947\n",
      "Epoch 100/100\n",
      "24/24 [==============================] - 0s 647us/step - loss: 0.2463 - accuracy: 0.8947\n"
     ]
    }
   ],
   "source": [
    "# Compile the Sequential model together and customize metrics\n",
    "new_model.compile(loss=\"binary_crossentropy\", optimizer=\"adam\", metrics=[\"accuracy\"])\n",
    "\n",
    "# Fit the model to the training data\n",
    "new_fit_model = new_model.fit(X_moon_train_scaled, y_moon_train, epochs=100, shuffle=True)"
   ]
  },
  {
   "cell_type": "code",
   "execution_count": null,
   "id": "1f6341c8",
   "metadata": {},
   "outputs": [],
   "source": []
  }
 ],
 "metadata": {
  "kernelspec": {
   "display_name": "mlenv",
   "language": "python",
   "name": "mlenv"
  },
  "language_info": {
   "codemirror_mode": {
    "name": "ipython",
    "version": 3
   },
   "file_extension": ".py",
   "mimetype": "text/x-python",
   "name": "python",
   "nbconvert_exporter": "python",
   "pygments_lexer": "ipython3",
   "version": "3.7.11"
  }
 },
 "nbformat": 4,
 "nbformat_minor": 5
}
